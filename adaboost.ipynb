{
 "cells": [
  {
   "cell_type": "code",
   "execution_count": 15,
   "id": "b9e9f5ac",
   "metadata": {},
   "outputs": [],
   "source": [
    "from sklearn.ensemble import AdaBoostClassifier\n",
    "from sklearn import datasets\n",
    "from sklearn.model_selection import train_test_split\n",
    "from sklearn import metrics"
   ]
  },
  {
   "cell_type": "code",
   "execution_count": 16,
   "id": "18947f37",
   "metadata": {},
   "outputs": [],
   "source": [
    "iris=datasets.load_iris()\n",
    "x=iris.data\n",
    "y=iris.target"
   ]
  },
  {
   "cell_type": "code",
   "execution_count": 17,
   "id": "e7e388e3",
   "metadata": {},
   "outputs": [],
   "source": [
    "x_train,x_test,y_train,y_test=train_test_split(x,y,test_size=0.3)"
   ]
  },
  {
   "cell_type": "code",
   "execution_count": 18,
   "id": "7c8c1606",
   "metadata": {},
   "outputs": [],
   "source": [
    "#build a model with deafault as decision tree base learner\n",
    "#create adaboost classifier object\n",
    "abc=AdaBoostClassifier(n_estimators=50,learning_rate=1)\n",
    "\n",
    "#train adaboost classifier\n",
    "model=abc.fit(x_train,y_train)\n",
    "\n",
    "#predict the response for test data\n",
    "y_pred=model.predict(x_test)"
   ]
  },
  {
   "cell_type": "code",
   "execution_count": 19,
   "id": "93e83ac5",
   "metadata": {},
   "outputs": [
    {
     "name": "stdout",
     "output_type": "stream",
     "text": [
      "accuracy: 0.9333333333333333\n"
     ]
    }
   ],
   "source": [
    "print('accuracy:',metrics.accuracy_score(y_test,y_pred))"
   ]
  },
  {
   "cell_type": "markdown",
   "id": "a6756c26",
   "metadata": {},
   "source": [
    "### Using different base learners as SVC"
   ]
  },
  {
   "cell_type": "code",
   "execution_count": 20,
   "id": "a2174637",
   "metadata": {},
   "outputs": [
    {
     "name": "stdout",
     "output_type": "stream",
     "text": [
      "accuracy: 0.9777777777777777\n"
     ]
    },
    {
     "name": "stderr",
     "output_type": "stream",
     "text": [
      "/home/student/.conda/envs/AML-manyahegde/lib/python3.9/site-packages/sklearn/ensemble/_base.py:166: FutureWarning: `base_estimator` was renamed to `estimator` in version 1.2 and will be removed in 1.4.\n",
      "  warnings.warn(\n"
     ]
    }
   ],
   "source": [
    "#load libraries\n",
    "from sklearn.ensemble import AdaBoostClassifier\n",
    "from sklearn.svm import SVC\n",
    "from sklearn import metrics\n",
    "\n",
    "svc=SVC(probability=True, kernel='linear')\n",
    "\n",
    "#create adaboost classifier object\n",
    "abc=AdaBoostClassifier(n_estimators=50,base_estimator=svc,learning_rate=1)\n",
    "\n",
    "#train adaboost classifier\n",
    "model=abc.fit(x_train,y_train)\n",
    "\n",
    "#predict he response for test dataset\n",
    "y_pred=model.predict(x_test)\n",
    "\n",
    "#model accuracy\n",
    "print('accuracy:',metrics.accuracy_score(y_test,y_pred))\n"
   ]
  }
 ],
 "metadata": {
  "kernelspec": {
   "display_name": "Python 3 (ipykernel)",
   "language": "python",
   "name": "python3"
  },
  "language_info": {
   "codemirror_mode": {
    "name": "ipython",
    "version": 3
   },
   "file_extension": ".py",
   "mimetype": "text/x-python",
   "name": "python",
   "nbconvert_exporter": "python",
   "pygments_lexer": "ipython3",
   "version": "3.9.16"
  }
 },
 "nbformat": 4,
 "nbformat_minor": 5
}
