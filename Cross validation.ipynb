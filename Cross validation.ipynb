{
 "cells": [
  {
   "cell_type": "code",
   "execution_count": 1,
   "id": "23feb59a",
   "metadata": {},
   "outputs": [],
   "source": [
    "from sklearn.model_selection import cross_val_score\n",
    "from sklearn.tree import DecisionTreeClassifier\n",
    "from sklearn.datasets import load_iris\n",
    "\n",
    "\n",
    "#load iris dataset\n",
    "iris=load_iris()\n",
    "x=iris.data\n",
    "y=iris.target\n",
    "\n",
    "\n",
    "#create a decision tree classifier\n",
    "clf=DecisionTreeClassifier()"
   ]
  },
  {
   "cell_type": "code",
   "execution_count": 2,
   "id": "911fd0b9",
   "metadata": {},
   "outputs": [
    {
     "name": "stdout",
     "output_type": "stream",
     "text": [
      "mean accuracy: 0.9666666666666668\n"
     ]
    }
   ],
   "source": [
    "#perform 5-folds cross validation and compute the mean accuracy\n",
    "scores = cross_val_score(clf,x,y)\n",
    "mean_accuracy=scores.mean()\n",
    "print(\"mean accuracy:\",mean_accuracy)"
   ]
  },
  {
   "cell_type": "code",
   "execution_count": 3,
   "id": "796309c6",
   "metadata": {},
   "outputs": [
    {
     "name": "stdout",
     "output_type": "stream",
     "text": [
      "mean accuracy: 0.9533333333333334\n"
     ]
    }
   ],
   "source": [
    "#perform 5-folds cross validation and compute the mean accuracy\n",
    "scores=cross_val_score(clf,x,y,cv=10)\n",
    "mean_accuracy=scores.mean()\n",
    "print(\"mean accuracy:\",mean_accuracy)"
   ]
  },
  {
   "cell_type": "code",
   "execution_count": null,
   "id": "4d8733fb",
   "metadata": {},
   "outputs": [],
   "source": []
  }
 ],
 "metadata": {
  "kernelspec": {
   "display_name": "Python 3 (ipykernel)",
   "language": "python",
   "name": "python3"
  },
  "language_info": {
   "codemirror_mode": {
    "name": "ipython",
    "version": 3
   },
   "file_extension": ".py",
   "mimetype": "text/x-python",
   "name": "python",
   "nbconvert_exporter": "python",
   "pygments_lexer": "ipython3",
   "version": "3.9.16"
  }
 },
 "nbformat": 4,
 "nbformat_minor": 5
}
