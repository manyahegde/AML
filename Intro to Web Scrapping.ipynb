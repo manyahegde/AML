{
 "cells": [
  {
   "cell_type": "code",
   "execution_count": 3,
   "id": "6ad875e4",
   "metadata": {},
   "outputs": [],
   "source": [
    "import requests\n",
    "from bs4 import BeautifulSoup"
   ]
  },
  {
   "cell_type": "code",
   "execution_count": 12,
   "id": "1240744c",
   "metadata": {},
   "outputs": [],
   "source": [
    "# Example 1: Extract a Website Title\n",
    "url = \"https://www.linkedin.com\"\n",
    "\n",
    "# Request for the website from url and store it as a response\n",
    "response = requests.get(url)\n",
    "\n",
    "# parse the html using bs4 (here default html parser is used)\n",
    "soup = BeautifulSoup(response.text, \"html.parser\")"
   ]
  },
  {
   "cell_type": "code",
   "execution_count": 13,
   "id": "d65a697a",
   "metadata": {},
   "outputs": [
    {
     "name": "stdout",
     "output_type": "stream",
     "text": [
      "LinkedIn: Log In or Sign Up\n"
     ]
    }
   ],
   "source": [
    "title = soup.find(\"title\").text  # assigns the text content of the <title> tag\n",
    "print(title)"
   ]
  },
  {
   "cell_type": "code",
   "execution_count": 14,
   "id": "4fe41ba2",
   "metadata": {},
   "outputs": [
    {
     "name": "stdout",
     "output_type": "stream",
     "text": [
      "\n",
      "          Welcome to your professional community\n",
      "        \n"
     ]
    }
   ],
   "source": [
    "text = soup.find(\"h1\").text\n",
    "print(text)"
   ]
  }
 ],
 "metadata": {
  "kernelspec": {
   "display_name": "Python 3 (ipykernel)",
   "language": "python",
   "name": "python3"
  },
  "language_info": {
   "codemirror_mode": {
    "name": "ipython",
    "version": 3
   },
   "file_extension": ".py",
   "mimetype": "text/x-python",
   "name": "python",
   "nbconvert_exporter": "python",
   "pygments_lexer": "ipython3",
   "version": "3.9.16"
  }
 },
 "nbformat": 4,
 "nbformat_minor": 5
}
